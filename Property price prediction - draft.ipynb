{
 "cells": [
  {
   "cell_type": "markdown",
   "metadata": {},
   "source": [
    "## Real estate price prediction - draft\n",
    "\n",
    "This draft is a result of a one day hacaton on the subject of prediction of real estate prices (a privat Kaggle competiton on real data).\n",
    "\n",
    "The rmse success metric was imposed by the competition regulations."
   ]
  },
  {
   "cell_type": "code",
   "execution_count": 18,
   "metadata": {},
   "outputs": [],
   "source": [
    "import pandas as pd\n",
    "#import seaborn as sns\n",
    "import matplotlib.pyplot as plt\n",
    "import numpy as np\n",
    "import scikitplot as skplt\n",
    "\n",
    "np.random.seed(0)\n",
    "\n",
    "import xgboost as xgb\n",
    "#from sklearn.model_selection import cross_val_score\n",
    "\n",
    "#from ml_metrics import rmsle\n",
    "from scikitplot.estimators import plot_learning_curve \n",
    "from scikitplot.estimators import plot_feature_importances \n",
    "#from eli5.xgboost import explain_weights_xgboost \n",
    "\n",
    "#from functools import partial\n",
    "#from hyperopt import hp\n",
    "#from hyperopt import hp, fmin, tpe, STATUS_OK, Trials\n",
    "\n",
    "plt.rcParams['figure.figsize']=(15,5) "
   ]
  },
  {
   "cell_type": "markdown",
   "metadata": {},
   "source": [
    "### Load the data"
   ]
  },
  {
   "cell_type": "code",
   "execution_count": 2,
   "metadata": {},
   "outputs": [
    {
     "name": "stderr",
     "output_type": "stream",
     "text": [
      "C:\\Users\\Pc\\Anaconda3\\lib\\site-packages\\ipykernel_launcher.py:4: FutureWarning: Sorting because non-concatenation axis is not aligned. A future version\n",
      "of pandas will change to not sort by default.\n",
      "\n",
      "To accept the future behavior, pass 'sort=False'.\n",
      "\n",
      "To retain the current behavior and silence the warning, pass 'sort=True'.\n",
      "\n",
      "  after removing the cwd from sys.path.\n"
     ]
    },
    {
     "data": {
      "text/html": [
       "<div>\n",
       "<style scoped>\n",
       "    .dataframe tbody tr th:only-of-type {\n",
       "        vertical-align: middle;\n",
       "    }\n",
       "\n",
       "    .dataframe tbody tr th {\n",
       "        vertical-align: top;\n",
       "    }\n",
       "\n",
       "    .dataframe thead th {\n",
       "        text-align: right;\n",
       "    }\n",
       "</style>\n",
       "<table border=\"1\" class=\"dataframe\">\n",
       "  <thead>\n",
       "    <tr style=\"text-align: right;\">\n",
       "      <th></th>\n",
       "      <th>breadcrumbs</th>\n",
       "      <th>date</th>\n",
       "      <th>date_crawling</th>\n",
       "      <th>geo_block</th>\n",
       "      <th>id</th>\n",
       "      <th>is_test</th>\n",
       "      <th>owner</th>\n",
       "      <th>params</th>\n",
       "      <th>params_en_full</th>\n",
       "      <th>price</th>\n",
       "    </tr>\n",
       "  </thead>\n",
       "  <tbody>\n",
       "    <tr>\n",
       "      <th>4</th>\n",
       "      <td>[Недвижимость на Move.ru, Москва, МЦК Площадь ...</td>\n",
       "      <td>[17 апреля, 4, (+1 за сегодня), Обновлено 16 мая]</td>\n",
       "      <td>2019-05-21 00:23:07</td>\n",
       "      <td>[г. Москва, г. Москва]</td>\n",
       "      <td>4</td>\n",
       "      <td>0.0</td>\n",
       "      <td>[]</td>\n",
       "      <td>{'Тип здания:': 'Монолитный', 'Тип объекта:': ...</td>\n",
       "      <td>{'Building type:': 'Monolithic', 'Object type:...</td>\n",
       "      <td>96470000.0</td>\n",
       "    </tr>\n",
       "    <tr>\n",
       "      <th>5</th>\n",
       "      <td>[Недвижимость на Move.ru, Москва, МЦК Коптево]</td>\n",
       "      <td>[14 апреля, 7, (+1 за сегодня), Обновлено 17 мая]</td>\n",
       "      <td>2019-05-20 20:20:58</td>\n",
       "      <td>[г. Москва, г. Москва]</td>\n",
       "      <td>5</td>\n",
       "      <td>0.0</td>\n",
       "      <td>[ЖК AQUATORIA]</td>\n",
       "      <td>{'Охрана:': 'предусмотрена', 'Тип здания:': 'М...</td>\n",
       "      <td>{'Security:': 'provided', 'Building type:': 'M...</td>\n",
       "      <td>62810000.0</td>\n",
       "    </tr>\n",
       "    <tr>\n",
       "      <th>7</th>\n",
       "      <td>[Недвижимость на Move.ru, Москва, Новая Москва...</td>\n",
       "      <td>[8 февраля, 14, (+1 за сегодня), Обновлено 15 ...</td>\n",
       "      <td>2019-05-21 10:10:30</td>\n",
       "      <td>[Новая Москва, п. Марушкинское, г. Москва, Нов...</td>\n",
       "      <td>7</td>\n",
       "      <td>0.0</td>\n",
       "      <td>[]</td>\n",
       "      <td>{'Лифт:': 'да', 'Охрана:': 'закрытая территори...</td>\n",
       "      <td>{'Elevator:': 'yes', 'Security:': 'closed area...</td>\n",
       "      <td>6360000.0</td>\n",
       "    </tr>\n",
       "    <tr>\n",
       "      <th>8</th>\n",
       "      <td>[Недвижимость на Move.ru, Москва, Раменки, м. ...</td>\n",
       "      <td>[7 марта, 14, (+1 за сегодня), Обновлено 13 мая]</td>\n",
       "      <td>2019-05-19 23:01:28</td>\n",
       "      <td>[г. Москва, Раменки, ул Лобачевского, г. Москв...</td>\n",
       "      <td>8</td>\n",
       "      <td>0.0</td>\n",
       "      <td>[]</td>\n",
       "      <td>{'Лифт:': 'да', 'Охрана:': 'закрытая территори...</td>\n",
       "      <td>{'Elevator:': 'yes', 'Security:': 'closed area...</td>\n",
       "      <td>15676538.0</td>\n",
       "    </tr>\n",
       "    <tr>\n",
       "      <th>9</th>\n",
       "      <td>[Недвижимость на Move.ru, Москва, Южное Бутово...</td>\n",
       "      <td>[14 октября 2018, 51, (+1 за сегодня), Обновле...</td>\n",
       "      <td>2019-05-19 14:45:22</td>\n",
       "      <td>[г. Москва, Южное Бутово, ул Поляны, г. Москва...</td>\n",
       "      <td>9</td>\n",
       "      <td>0.0</td>\n",
       "      <td>[]</td>\n",
       "      <td>{'Лифт:': 'да', 'Охрана:': 'предусмотрена', 'Т...</td>\n",
       "      <td>{'Elevator:': 'yes', 'Security:': 'provided', ...</td>\n",
       "      <td>4078290.0</td>\n",
       "    </tr>\n",
       "  </tbody>\n",
       "</table>\n",
       "</div>"
      ],
      "text/plain": [
       "                                         breadcrumbs  \\\n",
       "4  [Недвижимость на Move.ru, Москва, МЦК Площадь ...   \n",
       "5     [Недвижимость на Move.ru, Москва, МЦК Коптево]   \n",
       "7  [Недвижимость на Move.ru, Москва, Новая Москва...   \n",
       "8  [Недвижимость на Move.ru, Москва, Раменки, м. ...   \n",
       "9  [Недвижимость на Move.ru, Москва, Южное Бутово...   \n",
       "\n",
       "                                                date        date_crawling  \\\n",
       "4  [17 апреля, 4, (+1 за сегодня), Обновлено 16 мая]  2019-05-21 00:23:07   \n",
       "5  [14 апреля, 7, (+1 за сегодня), Обновлено 17 мая]  2019-05-20 20:20:58   \n",
       "7  [8 февраля, 14, (+1 за сегодня), Обновлено 15 ...  2019-05-21 10:10:30   \n",
       "8   [7 марта, 14, (+1 за сегодня), Обновлено 13 мая]  2019-05-19 23:01:28   \n",
       "9  [14 октября 2018, 51, (+1 за сегодня), Обновле...  2019-05-19 14:45:22   \n",
       "\n",
       "                                           geo_block  id  is_test  \\\n",
       "4                             [г. Москва, г. Москва]   4      0.0   \n",
       "5                             [г. Москва, г. Москва]   5      0.0   \n",
       "7  [Новая Москва, п. Марушкинское, г. Москва, Нов...   7      0.0   \n",
       "8  [г. Москва, Раменки, ул Лобачевского, г. Москв...   8      0.0   \n",
       "9  [г. Москва, Южное Бутово, ул Поляны, г. Москва...   9      0.0   \n",
       "\n",
       "            owner                                             params  \\\n",
       "4              []  {'Тип здания:': 'Монолитный', 'Тип объекта:': ...   \n",
       "5  [ЖК AQUATORIA]  {'Охрана:': 'предусмотрена', 'Тип здания:': 'М...   \n",
       "7              []  {'Лифт:': 'да', 'Охрана:': 'закрытая территори...   \n",
       "8              []  {'Лифт:': 'да', 'Охрана:': 'закрытая территори...   \n",
       "9              []  {'Лифт:': 'да', 'Охрана:': 'предусмотрена', 'Т...   \n",
       "\n",
       "                                      params_en_full       price  \n",
       "4  {'Building type:': 'Monolithic', 'Object type:...  96470000.0  \n",
       "5  {'Security:': 'provided', 'Building type:': 'M...  62810000.0  \n",
       "7  {'Elevator:': 'yes', 'Security:': 'closed area...   6360000.0  \n",
       "8  {'Elevator:': 'yes', 'Security:': 'closed area...  15676538.0  \n",
       "9  {'Elevator:': 'yes', 'Security:': 'provided', ...   4078290.0  "
      ]
     },
     "execution_count": 2,
     "metadata": {},
     "output_type": "execute_result"
    }
   ],
   "source": [
    "train = pd.read_hdf('./input/train.h5')\n",
    "test = pd.read_hdf('./input/test.h5')\n",
    "\n",
    "df = pd.concat([train, test])\n",
    "\n",
    "df.head()"
   ]
  },
  {
   "cell_type": "code",
   "execution_count": 3,
   "metadata": {},
   "outputs": [
    {
     "name": "stdout",
     "output_type": "stream",
     "text": [
      "<class 'pandas.core.frame.DataFrame'>\n",
      "Int64Index: 45566 entries, 4 to 68347\n",
      "Data columns (total 10 columns):\n",
      "breadcrumbs       45566 non-null object\n",
      "date              45566 non-null object\n",
      "date_crawling     45566 non-null object\n",
      "geo_block         45566 non-null object\n",
      "owner             45566 non-null object\n",
      "params            45566 non-null object\n",
      "price             45566 non-null int64\n",
      "params_en_full    45566 non-null object\n",
      "is_test           45566 non-null int64\n",
      "id                45566 non-null int64\n",
      "dtypes: int64(3), object(7)\n",
      "memory usage: 3.8+ MB\n"
     ]
    }
   ],
   "source": [
    "train.info()"
   ]
  },
  {
   "cell_type": "code",
   "execution_count": 4,
   "metadata": {},
   "outputs": [
    {
     "data": {
      "text/plain": [
       "breadcrumbs       0\n",
       "date              0\n",
       "date_crawling     0\n",
       "geo_block         0\n",
       "owner             0\n",
       "params            0\n",
       "price             0\n",
       "params_en_full    0\n",
       "is_test           0\n",
       "id                0\n",
       "dtype: int64"
      ]
     },
     "execution_count": 4,
     "metadata": {},
     "output_type": "execute_result"
    }
   ],
   "source": [
    "train.isna().sum() # no data is missing"
   ]
  },
  {
   "cell_type": "markdown",
   "metadata": {},
   "source": [
    "### Data from params_en_full column\n",
    "\n",
    "Sample field content:"
   ]
  },
  {
   "cell_type": "code",
   "execution_count": 5,
   "metadata": {},
   "outputs": [
    {
     "data": {
      "text/plain": [
       "{'Total area:': '35 м²',\n",
       " 'Date published:': '19 апреля',\n",
       " 'ID:': '682-130-939-1',\n",
       " 'Price:': '7 700 000 ₽',\n",
       " 'Building type:': 'Panel',\n",
       " 'price per m2:': '220 000 ₽',\n",
       " 'Number of rooms:': '1',\n",
       " 'Number of floors:': '16',\n",
       " 'Updated date:': '15 мая',\n",
       " 'Object type:': 'apartments',\n",
       " 'Commission agent:': 'no fee',\n",
       " 'Ad type:': 'secondary',\n",
       " 'Address:': '',\n",
       " 'Floor:': '11/16'}"
      ]
     },
     "execution_count": 5,
     "metadata": {},
     "output_type": "execute_result"
    }
   ],
   "source": [
    "df['params_en_full'].sample(1).values[0] "
   ]
  },
  {
   "cell_type": "markdown",
   "metadata": {},
   "source": [
    "All unique keyes in params_en_full (for both: train and test data)"
   ]
  },
  {
   "cell_type": "code",
   "execution_count": 6,
   "metadata": {},
   "outputs": [
    {
     "data": {
      "text/plain": [
       "{'Ad type:',\n",
       " 'Address:',\n",
       " 'Balcony type:',\n",
       " 'Bathroom type:',\n",
       " 'Building type:',\n",
       " 'Ceiling height:',\n",
       " 'Class:',\n",
       " 'Commission agent:',\n",
       " 'Construction phase:',\n",
       " 'Date published:',\n",
       " 'Developer:',\n",
       " 'Elevator:',\n",
       " 'Floor covering:',\n",
       " 'Floor:',\n",
       " 'Foundation type:',\n",
       " 'Free layout:',\n",
       " 'Fridge:',\n",
       " 'Furniture:',\n",
       " 'Garbage chute:',\n",
       " 'Housing class:',\n",
       " 'ID:',\n",
       " 'Internet:',\n",
       " 'It is possible to bargain:',\n",
       " 'Kitchen area:',\n",
       " 'Kitchen furniture:',\n",
       " 'Living room:',\n",
       " 'Management company:',\n",
       " 'Mortgage possible:',\n",
       " 'New building:',\n",
       " 'Number of apartments:',\n",
       " 'Number of buildings:',\n",
       " 'Number of dwellings:',\n",
       " 'Number of entrances:',\n",
       " 'Number of floors:',\n",
       " 'Number of rooms:',\n",
       " 'Object type:',\n",
       " 'Overlap type:',\n",
       " 'Parking:',\n",
       " 'Phone:',\n",
       " 'Playground:',\n",
       " 'Pre-pay',\n",
       " 'Price:',\n",
       " 'Repair:',\n",
       " 'Room type:',\n",
       " 'Security:',\n",
       " 'Series:',\n",
       " 'Surrender:',\n",
       " 'TV:',\n",
       " 'The largest number of floors:',\n",
       " 'The smallest number of floors:',\n",
       " 'The view from the window:',\n",
       " 'Total area:',\n",
       " 'Type of the building:',\n",
       " 'Updated date:',\n",
       " 'Washing machine:',\n",
       " 'Year built:',\n",
       " 'price per m2:'}"
      ]
     },
     "execution_count": 6,
     "metadata": {},
     "output_type": "execute_result"
    }
   ],
   "source": [
    "all_keys = set()\n",
    "_ = df['params_en_full'].map(lambda x: all_keys.update(x.keys()) )\n",
    "\n",
    "all_keys"
   ]
  },
  {
   "cell_type": "markdown",
   "metadata": {},
   "source": [
    "Extracting features from params_en_full"
   ]
  },
  {
   "cell_type": "code",
   "execution_count": 7,
   "metadata": {},
   "outputs": [],
   "source": [
    "df['area'] = df['params_en_full'].map(lambda x: x['Total area:'].split('м')[0].strip() ).astype(np.float)\n",
    "\n",
    "def extract_floor(x):\n",
    "    if 'Floor:' not in x: return -1\n",
    "    return x['Floor:'].split('/')[0]\n",
    "\n",
    "def extract_living_room(x):\n",
    "    if 'Living room:' not in x: return -1\n",
    "    return x['Living room:'].split('м')[0]\n",
    "\n",
    "def extract_ceiling_height(x):\n",
    "    if 'Ceiling height:' not in x: return -1\n",
    "    return x['Ceiling height:'].split('м')[0]\n",
    "\n",
    "def extract_kitchen_area(x):\n",
    "    if 'Kitchen area:' not in x: return -1\n",
    "    return x['Kitchen area:'].split('м')[0]\n",
    "\n",
    "df['param_floor'] = df['params_en_full'].map(extract_floor ).astype(np.float)\n",
    "df['param_living room'] = df['params_en_full'].map(extract_living_room).astype(np.float)\n",
    "df['param_ceiling_height'] = df['params_en_full'].map(extract_ceiling_height ).astype(np.float)\n",
    "df['param_kitchen_area'] = df['params_en_full'].map(extract_kitchen_area ).astype(np.float)"
   ]
  },
  {
   "cell_type": "markdown",
   "metadata": {},
   "source": [
    "...More features"
   ]
  },
  {
   "cell_type": "code",
   "execution_count": 8,
   "metadata": {},
   "outputs": [],
   "source": [
    "# Elevator:\n",
    "\n",
    "def extract_elevator(x):\n",
    "    if 'Elevator:' not in x: return -1\n",
    "    return x['Elevator:'].split()[0]\n",
    "\n",
    "df['str_elevator'] = df['params_en_full'].map(extract_elevator ).astype(np.str)\n",
    "df['param_elevator'] = df['str_elevator'].factorize()[0]\n",
    "\n",
    "# 'Balcony type:',\n",
    "\n",
    "def extract_balcony(x):\n",
    "    if 'Balcony type:' not in x: return -1\n",
    "    return x['Balcony type:'].split()[0]\n",
    "\n",
    "df['str_balcony'] = df['params_en_full'].map(extract_balcony ).astype(np.str)\n",
    "df['param_balcony'] = df['str_balcony'].factorize()[0]\n",
    "\n",
    "# 'Class:',\n",
    "\n",
    "def extract_class(x):\n",
    "    if 'Class:' not in x: return -1\n",
    "    return x['Class:'].split()[0]\n",
    "\n",
    "df['str_class'] = df['params_en_full'].map(extract_class ).astype(np.str)\n",
    "df['param_class'] = df['str_class'].factorize()[0]\n",
    "\n",
    "#'Developer:' : \n",
    "\n",
    "def extract_developer(x):\n",
    "    if 'Developer:' not in x: return -1\n",
    "    return x['Developer:'].split()[0]\n",
    "\n",
    "df['str_developer'] = df['params_en_full'].map(extract_developer ).astype(np.str)\n",
    "df['param_developer'] = df['str_developer'].factorize()[0]  # long tail!!\n",
    "\n",
    "\n",
    "#'Building type:':\n",
    "    \n",
    "def extract_building_type(x):\n",
    "    if 'Building type:' not in x: return -1\n",
    "    return x['Building type:'].split()[0]\n",
    "\n",
    "df['str_building_type'] = df['params_en_full'].map(extract_building_type ).astype(np.str)\n",
    "df['param_building_type'] = df['str_building_type'].factorize()[0]\n",
    "\n",
    "\n",
    "\n",
    "# 'New building:',\n",
    "\n",
    "def extract_new_build(x):\n",
    "    if 'New building:' not in x: return -1\n",
    "    return x['New building:'].split()[0]\n",
    "\n",
    "df['str_new_build'] = df['params_en_full'].map(extract_new_build ).astype(np.str)\n",
    "df['param_new_build'] = df['str_new_build'].factorize()[0]\n",
    "\n",
    "\n",
    "# 'Number of rooms:'\n",
    "\n",
    "def extract_rooms(x):\n",
    "    if 'Number of rooms:' not in x: return -1\n",
    "    return x['Number of rooms:'].split()[0]\n",
    "\n",
    "df['param_rooms'] = df['params_en_full'].map( extract_rooms ).astype(np.int) \n",
    "\n",
    "# 'Year built:',\n",
    "\n",
    "def extract_year(x):\n",
    "    if 'Year built:' not in x: return -1\n",
    "    return x['Year built:'].split()[0]\n",
    "\n",
    "df['param_year'] = df['params_en_full'].map(extract_year ).astype(np.int) # long tail!!\n",
    "\n",
    "\n",
    "#df['elevator'] = df['params_en_full'].map(lambda x: x['Elevator:'].split()[0].strip() ).astype(np.str)"
   ]
  },
  {
   "cell_type": "code",
   "execution_count": 9,
   "metadata": {},
   "outputs": [],
   "source": [
    "#df.columns"
   ]
  },
  {
   "cell_type": "code",
   "execution_count": 10,
   "metadata": {},
   "outputs": [],
   "source": [
    "#df['str_elevator'].values\n",
    "#df['param_year'].value_counts()"
   ]
  },
  {
   "cell_type": "code",
   "execution_count": 11,
   "metadata": {},
   "outputs": [
    {
     "data": {
      "text/html": [
       "<div>\n",
       "<style scoped>\n",
       "    .dataframe tbody tr th:only-of-type {\n",
       "        vertical-align: middle;\n",
       "    }\n",
       "\n",
       "    .dataframe tbody tr th {\n",
       "        vertical-align: top;\n",
       "    }\n",
       "\n",
       "    .dataframe thead th {\n",
       "        text-align: right;\n",
       "    }\n",
       "</style>\n",
       "<table border=\"1\" class=\"dataframe\">\n",
       "  <thead>\n",
       "    <tr style=\"text-align: right;\">\n",
       "      <th></th>\n",
       "      <th>breadcrumbs</th>\n",
       "      <th>date</th>\n",
       "      <th>date_crawling</th>\n",
       "      <th>geo_block</th>\n",
       "      <th>id</th>\n",
       "      <th>is_test</th>\n",
       "      <th>owner</th>\n",
       "      <th>params</th>\n",
       "      <th>params_en_full</th>\n",
       "      <th>price</th>\n",
       "      <th>...</th>\n",
       "      <th>str_class</th>\n",
       "      <th>param_class</th>\n",
       "      <th>str_developer</th>\n",
       "      <th>param_developer</th>\n",
       "      <th>str_building_type</th>\n",
       "      <th>param_building_type</th>\n",
       "      <th>str_new_build</th>\n",
       "      <th>param_new_build</th>\n",
       "      <th>param_rooms</th>\n",
       "      <th>param_year</th>\n",
       "    </tr>\n",
       "  </thead>\n",
       "  <tbody>\n",
       "    <tr>\n",
       "      <th>2431</th>\n",
       "      <td>[Недвижимость на Move.ru, Москва, Пресненский,...</td>\n",
       "      <td>[15 марта, 11, (+1 за сегодня), Обновлено 13 мая]</td>\n",
       "      <td>2019-05-18 16:38:16</td>\n",
       "      <td>[г. Москва, Пресненский, г. Москва, Пресненский]</td>\n",
       "      <td>2431</td>\n",
       "      <td>NaN</td>\n",
       "      <td>[]</td>\n",
       "      <td>{'Лифт:': 'да', 'Охрана:': 'предусмотрена', 'Т...</td>\n",
       "      <td>{'Elevator:': 'yes', 'Security:': 'provided', ...</td>\n",
       "      <td>NaN</td>\n",
       "      <td>...</td>\n",
       "      <td>-1</td>\n",
       "      <td>0</td>\n",
       "      <td>Rossmils</td>\n",
       "      <td>38</td>\n",
       "      <td>Monolithic-brick</td>\n",
       "      <td>2</td>\n",
       "      <td>ЖК</td>\n",
       "      <td>0</td>\n",
       "      <td>3</td>\n",
       "      <td>2013</td>\n",
       "    </tr>\n",
       "    <tr>\n",
       "      <th>62317</th>\n",
       "      <td>[Недвижимость на Move.ru, Москва, Дмитровский,...</td>\n",
       "      <td>[2 апреля, 8, (+1 за сегодня), Обновлено 14 мая]</td>\n",
       "      <td>2019-05-19 15:11:13</td>\n",
       "      <td>[г. Москва, Дмитровский, г. Москва, Дмитровский]</td>\n",
       "      <td>62317</td>\n",
       "      <td>0.0</td>\n",
       "      <td>[]</td>\n",
       "      <td>{'Лифт:': 'да', 'Охрана:': 'предусмотрена', 'Т...</td>\n",
       "      <td>{'Elevator:': 'yes', 'Security:': 'provided', ...</td>\n",
       "      <td>8664150.0</td>\n",
       "      <td>...</td>\n",
       "      <td>-1</td>\n",
       "      <td>0</td>\n",
       "      <td>-1</td>\n",
       "      <td>8</td>\n",
       "      <td>Monolithic</td>\n",
       "      <td>0</td>\n",
       "      <td>Жилой</td>\n",
       "      <td>1</td>\n",
       "      <td>2</td>\n",
       "      <td>-1</td>\n",
       "    </tr>\n",
       "    <tr>\n",
       "      <th>61405</th>\n",
       "      <td>[Недвижимость на Move.ru, Москва, Зябликово, м...</td>\n",
       "      <td>[14 мая, 4, (+1 за сегодня)]</td>\n",
       "      <td>2019-05-18 23:05:41</td>\n",
       "      <td>[г. Москва, Зябликово, г. Москва, Зябликово]</td>\n",
       "      <td>61405</td>\n",
       "      <td>0.0</td>\n",
       "      <td>[]</td>\n",
       "      <td>{'Лифт:': 'да', 'Охрана:': 'огороженная террит...</td>\n",
       "      <td>{'Elevator:': 'yes', 'Security:': 'fenced area...</td>\n",
       "      <td>13089200.0</td>\n",
       "      <td>...</td>\n",
       "      <td>-1</td>\n",
       "      <td>0</td>\n",
       "      <td>ДОНСТРОЙ</td>\n",
       "      <td>10</td>\n",
       "      <td>Monolithic</td>\n",
       "      <td>0</td>\n",
       "      <td>ЖК</td>\n",
       "      <td>0</td>\n",
       "      <td>3</td>\n",
       "      <td>2022</td>\n",
       "    </tr>\n",
       "    <tr>\n",
       "      <th>19422</th>\n",
       "      <td>[Недвижимость на Move.ru, Москва, Новая Москва...</td>\n",
       "      <td>[14 мая, 6, (+1 за сегодня)]</td>\n",
       "      <td>2019-05-18 23:41:05</td>\n",
       "      <td>[Новая Москва, п. Сосенское, д. Николо-Хованск...</td>\n",
       "      <td>19422</td>\n",
       "      <td>NaN</td>\n",
       "      <td>[]</td>\n",
       "      <td>{'Лифт:': 'да', 'Охрана:': 'да', 'Тип здания:'...</td>\n",
       "      <td>{'Elevator:': 'yes', 'Security:': 'Yes', 'Buil...</td>\n",
       "      <td>NaN</td>\n",
       "      <td>...</td>\n",
       "      <td>-1</td>\n",
       "      <td>0</td>\n",
       "      <td>ГК</td>\n",
       "      <td>9</td>\n",
       "      <td>Monolithic</td>\n",
       "      <td>0</td>\n",
       "      <td>ЖК</td>\n",
       "      <td>0</td>\n",
       "      <td>2</td>\n",
       "      <td>2020</td>\n",
       "    </tr>\n",
       "    <tr>\n",
       "      <th>13113</th>\n",
       "      <td>[Недвижимость на Move.ru, Москва, Хорошёво-Мнё...</td>\n",
       "      <td>[14 мая, 6, (+1 за сегодня)]</td>\n",
       "      <td>2019-05-18 23:03:34</td>\n",
       "      <td>[г. Москва, Хорошёво-Мнёвники, г. Москва, Хоро...</td>\n",
       "      <td>13113</td>\n",
       "      <td>0.0</td>\n",
       "      <td>[]</td>\n",
       "      <td>{'Лифт:': 'да', 'Охрана:': 'предусмотрена', 'Т...</td>\n",
       "      <td>{'Elevator:': 'yes', 'Security:': 'provided', ...</td>\n",
       "      <td>28762500.0</td>\n",
       "      <td>...</td>\n",
       "      <td>-1</td>\n",
       "      <td>0</td>\n",
       "      <td>ДОНСТРОЙ</td>\n",
       "      <td>10</td>\n",
       "      <td>Monolithic</td>\n",
       "      <td>0</td>\n",
       "      <td>ЖК</td>\n",
       "      <td>0</td>\n",
       "      <td>4</td>\n",
       "      <td>2020</td>\n",
       "    </tr>\n",
       "  </tbody>\n",
       "</table>\n",
       "<p>5 rows × 29 columns</p>\n",
       "</div>"
      ],
      "text/plain": [
       "                                             breadcrumbs  \\\n",
       "2431   [Недвижимость на Move.ru, Москва, Пресненский,...   \n",
       "62317  [Недвижимость на Move.ru, Москва, Дмитровский,...   \n",
       "61405  [Недвижимость на Move.ru, Москва, Зябликово, м...   \n",
       "19422  [Недвижимость на Move.ru, Москва, Новая Москва...   \n",
       "13113  [Недвижимость на Move.ru, Москва, Хорошёво-Мнё...   \n",
       "\n",
       "                                                    date        date_crawling  \\\n",
       "2431   [15 марта, 11, (+1 за сегодня), Обновлено 13 мая]  2019-05-18 16:38:16   \n",
       "62317   [2 апреля, 8, (+1 за сегодня), Обновлено 14 мая]  2019-05-19 15:11:13   \n",
       "61405                       [14 мая, 4, (+1 за сегодня)]  2019-05-18 23:05:41   \n",
       "19422                       [14 мая, 6, (+1 за сегодня)]  2019-05-18 23:41:05   \n",
       "13113                       [14 мая, 6, (+1 за сегодня)]  2019-05-18 23:03:34   \n",
       "\n",
       "                                               geo_block     id  is_test  \\\n",
       "2431    [г. Москва, Пресненский, г. Москва, Пресненский]   2431      NaN   \n",
       "62317   [г. Москва, Дмитровский, г. Москва, Дмитровский]  62317      0.0   \n",
       "61405       [г. Москва, Зябликово, г. Москва, Зябликово]  61405      0.0   \n",
       "19422  [Новая Москва, п. Сосенское, д. Николо-Хованск...  19422      NaN   \n",
       "13113  [г. Москва, Хорошёво-Мнёвники, г. Москва, Хоро...  13113      0.0   \n",
       "\n",
       "      owner                                             params  \\\n",
       "2431     []  {'Лифт:': 'да', 'Охрана:': 'предусмотрена', 'Т...   \n",
       "62317    []  {'Лифт:': 'да', 'Охрана:': 'предусмотрена', 'Т...   \n",
       "61405    []  {'Лифт:': 'да', 'Охрана:': 'огороженная террит...   \n",
       "19422    []  {'Лифт:': 'да', 'Охрана:': 'да', 'Тип здания:'...   \n",
       "13113    []  {'Лифт:': 'да', 'Охрана:': 'предусмотрена', 'Т...   \n",
       "\n",
       "                                          params_en_full       price  \\\n",
       "2431   {'Elevator:': 'yes', 'Security:': 'provided', ...         NaN   \n",
       "62317  {'Elevator:': 'yes', 'Security:': 'provided', ...   8664150.0   \n",
       "61405  {'Elevator:': 'yes', 'Security:': 'fenced area...  13089200.0   \n",
       "19422  {'Elevator:': 'yes', 'Security:': 'Yes', 'Buil...         NaN   \n",
       "13113  {'Elevator:': 'yes', 'Security:': 'provided', ...  28762500.0   \n",
       "\n",
       "         ...      str_class  param_class  str_developer  param_developer  \\\n",
       "2431     ...             -1            0       Rossmils               38   \n",
       "62317    ...             -1            0             -1                8   \n",
       "61405    ...             -1            0       ДОНСТРОЙ               10   \n",
       "19422    ...             -1            0             ГК                9   \n",
       "13113    ...             -1            0       ДОНСТРОЙ               10   \n",
       "\n",
       "       str_building_type param_building_type  str_new_build param_new_build  \\\n",
       "2431    Monolithic-brick                   2             ЖК               0   \n",
       "62317         Monolithic                   0          Жилой               1   \n",
       "61405         Monolithic                   0             ЖК               0   \n",
       "19422         Monolithic                   0             ЖК               0   \n",
       "13113         Monolithic                   0             ЖК               0   \n",
       "\n",
       "       param_rooms param_year  \n",
       "2431             3       2013  \n",
       "62317            2         -1  \n",
       "61405            3       2022  \n",
       "19422            2       2020  \n",
       "13113            4       2020  \n",
       "\n",
       "[5 rows x 29 columns]"
      ]
     },
     "execution_count": 11,
     "metadata": {},
     "output_type": "execute_result"
    }
   ],
   "source": [
    "df.sample(5)"
   ]
  },
  {
   "cell_type": "markdown",
   "metadata": {},
   "source": [
    "## Przygotowujemy `X` oraz `y`"
   ]
  },
  {
   "cell_type": "code",
   "execution_count": 28,
   "metadata": {},
   "outputs": [],
   "source": [
    "features = [ 'area'\n",
    "            , 'param_floor'\n",
    "            , 'param_living room'\n",
    "           # , 'param_ceiling_height'\n",
    "            , 'param_kitchen_area'\n",
    "            , 'param_balcony'\n",
    "            , 'param_elevator'\n",
    "           # , 'param_class' \n",
    "            , 'param_rooms'\n",
    "            , 'param_year'\n",
    "            , 'param_new_build'\n",
    "           # , 'param_developer'\n",
    "            , 'param_building_type']"
   ]
  },
  {
   "cell_type": "code",
   "execution_count": 29,
   "metadata": {},
   "outputs": [],
   "source": [
    "train, test = df[ False == df.price.isnull() ], df[ df.price.isnull() ]\n",
    "\n",
    "X_train = train[ features ].values\n",
    "y_train = train['price'].values\n",
    "\n",
    "X_test = test[ features  ].values"
   ]
  },
  {
   "cell_type": "markdown",
   "metadata": {},
   "source": [
    "### Model"
   ]
  },
  {
   "cell_type": "code",
   "execution_count": 42,
   "metadata": {},
   "outputs": [],
   "source": [
    "model = xgb.XGBRegressor(max_depth=8, x_subsample= 0.6, n_estimators=300, random_state=0)\n",
    "y_log = np.log(y_train)\n",
    "model.fit(X_train, y_log) \n",
    "\n",
    "y_log_pred = model.predict(X_test)\n",
    "y_pred = np.exp(y_log_pred)"
   ]
  },
  {
   "cell_type": "code",
   "execution_count": 43,
   "metadata": {},
   "outputs": [
    {
     "data": {
      "image/png": "[encoded data removed]",
      "text/plain": [
       "<Figure size 1080x360 with 1 Axes>"
      ]
     },
     "metadata": {
      "needs_background": "light"
     },
     "output_type": "display_data"
    }
   ],
   "source": [
    "skplt.estimators.plot_learning_curve(model, X_train, y_log, cv=5);\n"
   ]
  },
  {
   "cell_type": "markdown",
   "metadata": {},
   "source": [
    "A little bit overfitted, but perform reasonably well on Kaggle."
   ]
  },
  {
   "cell_type": "code",
   "execution_count": 44,
   "metadata": {},
   "outputs": [
    {
     "data": {
      "image/png": "[encoded data removed]",
      "text/plain": [
       "<Figure size 1080x360 with 1 Axes>"
      ]
     },
     "metadata": {
      "needs_background": "light"
     },
     "output_type": "display_data"
    }
   ],
   "source": [
    "model.fit(X_train, y_train)\n",
    "skplt.estimators.plot_feature_importances(model, feature_names=features, x_tick_rotation=90, text_fontsize='large' );\n"
   ]
  },
  {
   "cell_type": "markdown",
   "metadata": {},
   "source": [
    "### File saving for kaggle"
   ]
  },
  {
   "cell_type": "code",
   "execution_count": 47,
   "metadata": {},
   "outputs": [
    {
     "name": "stderr",
     "output_type": "stream",
     "text": [
      "C:\\Users\\Pc\\Anaconda3\\lib\\site-packages\\ipykernel_launcher.py:1: SettingWithCopyWarning: \n",
      "A value is trying to be set on a copy of a slice from a DataFrame.\n",
      "Try using .loc[row_indexer,col_indexer] = value instead\n",
      "\n",
      "See the caveats in the documentation: http://pandas.pydata.org/pandas-docs/stable/indexing.html#indexing-view-versus-copy\n",
      "  \"\"\"Entry point for launching an IPython kernel.\n"
     ]
    }
   ],
   "source": [
    "test['price'] = y_pred\n",
    "test[ ['id', 'price'] ].to_csv('./output/test10.csv', index=False)"
   ]
  },
  {
   "cell_type": "markdown",
   "metadata": {},
   "source": [
    "## Next steps\n",
    "\n",
    "1. Cross validation --> local result validation (due to the lack of time, result (so far) validated on kaggle)\n",
    "2. Extract more features from the data\n",
    "3. Remove long tail in features - compartments or logarithmization\n",
    "4. Eli 5 - feature importance\n",
    "5. Selecting features (&Overfitting ???)\n",
    "6. Optional: model optimization"
   ]
  },
  {
   "cell_type": "code",
   "execution_count": null,
   "metadata": {},
   "outputs": [],
   "source": []
  }
 ],
 "metadata": {
  "kernelspec": {
   "display_name": "Python 3",
   "language": "python",
   "name": "python3"
  },
  "language_info": {
   "codemirror_mode": {
    "name": "ipython",
    "version": 3
   },
   "file_extension": ".py",
   "mimetype": "text/x-python",
   "name": "python",
   "nbconvert_exporter": "python",
   "pygments_lexer": "ipython3",
   "version": "3.6.7"
  }
 },
 "nbformat": 4,
 "nbformat_minor": 2
}
